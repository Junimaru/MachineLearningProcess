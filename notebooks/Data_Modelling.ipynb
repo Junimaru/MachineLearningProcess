{
 "cells": [
  {
   "cell_type": "markdown",
   "metadata": {},
   "source": [
    "Import Libraries"
   ]
  },
  {
   "cell_type": "code",
   "execution_count": 1,
   "metadata": {},
   "outputs": [],
   "source": [
    "import src.util as utils\n",
    "import pandas as pd\n",
    "import numpy as np\n",
    "from sklearn.ensemble import RandomForestClassifier\n",
    "from sklearn.neighbors import KNeighborsClassifier\n",
    "from sklearn import svm\n",
    "from sklearn.linear_model import LogisticRegression\n",
    "from sklearn.ensemble import GradientBoostingClassifier\n",
    "from sklearn.svm import SVC\n",
    "from sklearn.metrics import accuracy_score\n",
    "from sklearn.model_selection import train_test_split, GridSearchCV\n",
    "import xgboost as xgb\n",
    "\n",
    "from sklearn.metrics import precision_score,recall_score\n",
    "from sklearn.metrics import f1_score\n",
    "from sklearn.metrics import confusion_matrix,accuracy_score, classification_report, ConfusionMatrixDisplay"
   ]
  },
  {
   "cell_type": "markdown",
   "metadata": {},
   "source": [
    "Load Configuration File"
   ]
  },
  {
   "cell_type": "code",
   "execution_count": 2,
   "metadata": {},
   "outputs": [],
   "source": [
    "config = utils.load_config()"
   ]
  },
  {
   "cell_type": "markdown",
   "metadata": {},
   "source": [
    "Load Train Dataset yang sudah di balance"
   ]
  },
  {
   "cell_type": "code",
   "execution_count": 3,
   "metadata": {},
   "outputs": [],
   "source": [
    "def load_train_feng(params: dict) -> pd.DataFrame:\n",
    "    # Load train set\n",
    "    x_train = utils.pickle_load(params[\"train_feng_set_path\"][0])\n",
    "    y_train = utils.pickle_load(params[\"train_feng_set_path\"][1])\n",
    "\n",
    "    return x_train, y_train\n",
    "\n",
    "def load_valid(params: dict) -> pd.DataFrame:\n",
    "    # Load valid set\n",
    "    x_valid = utils.pickle_load(params[\"valid_feng_set_path\"][0])\n",
    "    y_valid = utils.pickle_load(params[\"valid_feng_set_path\"][1])\n",
    "\n",
    "    return x_valid, y_valid\n",
    "\n",
    "def load_test(params: dict) -> pd.DataFrame:\n",
    "    # Load tets set\n",
    "    x_test = utils.pickle_load(params[\"test_feng_set_path\"][0])\n",
    "    y_test = utils.pickle_load(params[\"test_feng_set_path\"][1])\n",
    "\n",
    "    return x_test, y_test"
   ]
  },
  {
   "cell_type": "code",
   "execution_count": 4,
   "metadata": {},
   "outputs": [],
   "source": [
    "x_train, y_train = load_train_feng(config)\n",
    "x_valid, y_valid = load_valid(config)\n",
    "x_test, y_test = load_test(config)"
   ]
  },
  {
   "cell_type": "code",
   "execution_count": 5,
   "metadata": {},
   "outputs": [
    {
     "data": {
      "text/html": [
       "<div>\n",
       "<style scoped>\n",
       "    .dataframe tbody tr th:only-of-type {\n",
       "        vertical-align: middle;\n",
       "    }\n",
       "\n",
       "    .dataframe tbody tr th {\n",
       "        vertical-align: top;\n",
       "    }\n",
       "\n",
       "    .dataframe thead th {\n",
       "        text-align: right;\n",
       "    }\n",
       "</style>\n",
       "<table border=\"1\" class=\"dataframe\">\n",
       "  <thead>\n",
       "    <tr style=\"text-align: right;\">\n",
       "      <th></th>\n",
       "      <th>ph</th>\n",
       "      <th>Hardness</th>\n",
       "      <th>Solids</th>\n",
       "      <th>Chloramines</th>\n",
       "      <th>Sulfate</th>\n",
       "      <th>Conductivity</th>\n",
       "      <th>Organic_carbon</th>\n",
       "      <th>Trihalomethanes</th>\n",
       "      <th>Turbidity</th>\n",
       "    </tr>\n",
       "  </thead>\n",
       "  <tbody>\n",
       "    <tr>\n",
       "      <th>count</th>\n",
       "      <td>2689.000000</td>\n",
       "      <td>2689.000000</td>\n",
       "      <td>2689.000000</td>\n",
       "      <td>2689.000000</td>\n",
       "      <td>2689.000000</td>\n",
       "      <td>2689.000000</td>\n",
       "      <td>2689.000000</td>\n",
       "      <td>2689.000000</td>\n",
       "      <td>2689.000000</td>\n",
       "    </tr>\n",
       "    <tr>\n",
       "      <th>mean</th>\n",
       "      <td>7.056138</td>\n",
       "      <td>197.125394</td>\n",
       "      <td>21479.484152</td>\n",
       "      <td>7.088768</td>\n",
       "      <td>334.292479</td>\n",
       "      <td>428.150772</td>\n",
       "      <td>14.233504</td>\n",
       "      <td>65.977483</td>\n",
       "      <td>3.971829</td>\n",
       "    </tr>\n",
       "    <tr>\n",
       "      <th>std</th>\n",
       "      <td>1.199744</td>\n",
       "      <td>27.458526</td>\n",
       "      <td>7952.663563</td>\n",
       "      <td>1.403651</td>\n",
       "      <td>30.580390</td>\n",
       "      <td>78.357271</td>\n",
       "      <td>3.066849</td>\n",
       "      <td>14.277681</td>\n",
       "      <td>0.736700</td>\n",
       "    </tr>\n",
       "    <tr>\n",
       "      <th>min</th>\n",
       "      <td>3.902476</td>\n",
       "      <td>120.101908</td>\n",
       "      <td>320.942611</td>\n",
       "      <td>3.239580</td>\n",
       "      <td>252.231330</td>\n",
       "      <td>210.319182</td>\n",
       "      <td>5.914617</td>\n",
       "      <td>28.400877</td>\n",
       "      <td>1.922377</td>\n",
       "    </tr>\n",
       "    <tr>\n",
       "      <th>25%</th>\n",
       "      <td>6.328553</td>\n",
       "      <td>179.548074</td>\n",
       "      <td>15417.932834</td>\n",
       "      <td>6.175570</td>\n",
       "      <td>315.180405</td>\n",
       "      <td>370.085153</td>\n",
       "      <td>12.128377</td>\n",
       "      <td>56.932455</td>\n",
       "      <td>3.453861</td>\n",
       "    </tr>\n",
       "    <tr>\n",
       "      <th>50%</th>\n",
       "      <td>7.036774</td>\n",
       "      <td>197.300014</td>\n",
       "      <td>20596.391231</td>\n",
       "      <td>7.076222</td>\n",
       "      <td>334.161127</td>\n",
       "      <td>425.790228</td>\n",
       "      <td>14.150363</td>\n",
       "      <td>66.179547</td>\n",
       "      <td>3.978495</td>\n",
       "    </tr>\n",
       "    <tr>\n",
       "      <th>75%</th>\n",
       "      <td>7.784067</td>\n",
       "      <td>215.194145</td>\n",
       "      <td>26744.301742</td>\n",
       "      <td>8.021803</td>\n",
       "      <td>352.952803</td>\n",
       "      <td>482.673327</td>\n",
       "      <td>16.333126</td>\n",
       "      <td>75.416710</td>\n",
       "      <td>4.481552</td>\n",
       "    </tr>\n",
       "    <tr>\n",
       "      <th>max</th>\n",
       "      <td>10.252816</td>\n",
       "      <td>273.813807</td>\n",
       "      <td>44868.458368</td>\n",
       "      <td>10.999995</td>\n",
       "      <td>413.914001</td>\n",
       "      <td>652.537592</td>\n",
       "      <td>22.686837</td>\n",
       "      <td>104.230949</td>\n",
       "      <td>5.989543</td>\n",
       "    </tr>\n",
       "  </tbody>\n",
       "</table>\n",
       "</div>"
      ],
      "text/plain": [
       "                ph     Hardness        Solids  Chloramines      Sulfate  \\\n",
       "count  2689.000000  2689.000000   2689.000000  2689.000000  2689.000000   \n",
       "mean      7.056138   197.125394  21479.484152     7.088768   334.292479   \n",
       "std       1.199744    27.458526   7952.663563     1.403651    30.580390   \n",
       "min       3.902476   120.101908    320.942611     3.239580   252.231330   \n",
       "25%       6.328553   179.548074  15417.932834     6.175570   315.180405   \n",
       "50%       7.036774   197.300014  20596.391231     7.076222   334.161127   \n",
       "75%       7.784067   215.194145  26744.301742     8.021803   352.952803   \n",
       "max      10.252816   273.813807  44868.458368    10.999995   413.914001   \n",
       "\n",
       "       Conductivity  Organic_carbon  Trihalomethanes    Turbidity  \n",
       "count   2689.000000     2689.000000      2689.000000  2689.000000  \n",
       "mean     428.150772       14.233504        65.977483     3.971829  \n",
       "std       78.357271        3.066849        14.277681     0.736700  \n",
       "min      210.319182        5.914617        28.400877     1.922377  \n",
       "25%      370.085153       12.128377        56.932455     3.453861  \n",
       "50%      425.790228       14.150363        66.179547     3.978495  \n",
       "75%      482.673327       16.333126        75.416710     4.481552  \n",
       "max      652.537592       22.686837       104.230949     5.989543  "
      ]
     },
     "execution_count": 5,
     "metadata": {},
     "output_type": "execute_result"
    }
   ],
   "source": [
    "x_train.describe()"
   ]
  },
  {
   "cell_type": "markdown",
   "metadata": {},
   "source": [
    "Model Training"
   ]
  },
  {
   "cell_type": "code",
   "execution_count": 6,
   "metadata": {},
   "outputs": [
    {
     "name": "stdout",
     "output_type": "stream",
     "text": [
      "model: RandomForestClassifier()\n",
      "              precision    recall  f1-score   support\n",
      "\n",
      "         0.0       0.68      0.71      0.70       200\n",
      "         1.0       0.52      0.48      0.50       128\n",
      "\n",
      "    accuracy                           0.62       328\n",
      "   macro avg       0.60      0.60      0.60       328\n",
      "weighted avg       0.62      0.62      0.62       328\n",
      "\n",
      "------------------------------ \n",
      "\n",
      "model: KNeighborsClassifier()\n",
      "              precision    recall  f1-score   support\n",
      "\n",
      "         0.0       0.64      0.57      0.61       200\n",
      "         1.0       0.43      0.50      0.46       128\n",
      "\n",
      "    accuracy                           0.55       328\n",
      "   macro avg       0.54      0.54      0.53       328\n",
      "weighted avg       0.56      0.55      0.55       328\n",
      "\n",
      "------------------------------ \n",
      "\n",
      "model: SVC()\n",
      "              precision    recall  f1-score   support\n",
      "\n",
      "         0.0       0.59      0.71      0.64       200\n",
      "         1.0       0.33      0.22      0.26       128\n",
      "\n",
      "    accuracy                           0.52       328\n",
      "   macro avg       0.46      0.46      0.45       328\n",
      "weighted avg       0.48      0.52      0.49       328\n",
      "\n",
      "------------------------------ \n",
      "\n",
      "model: LogisticRegression()\n",
      "              precision    recall  f1-score   support\n",
      "\n",
      "         0.0       0.61      0.41      0.49       200\n",
      "         1.0       0.39      0.59      0.47       128\n",
      "\n",
      "    accuracy                           0.48       328\n",
      "   macro avg       0.50      0.50      0.48       328\n",
      "weighted avg       0.52      0.48      0.48       328\n",
      "\n",
      "------------------------------ \n",
      "\n",
      "model: XGBClassifier(base_score=0.5, booster='gbtree', callbacks=None,\n",
      "              colsample_bylevel=1, colsample_bynode=1, colsample_bytree=1,\n",
      "              early_stopping_rounds=None, enable_categorical=False,\n",
      "              eval_metric=None, feature_types=None, gamma=0, gpu_id=-1,\n",
      "              grow_policy='depthwise', importance_type=None,\n",
      "              interaction_constraints='', learning_rate=0.300000012,\n",
      "              max_bin=256, max_cat_threshold=64, max_cat_to_onehot=4,\n",
      "              max_delta_step=0, max_depth=6, max_leaves=0, min_child_weight=1,\n",
      "              missing=nan, monotone_constraints='()', n_estimators=100,\n",
      "              n_jobs=0, num_parallel_tree=1, predictor='auto', random_state=0, ...)\n",
      "              precision    recall  f1-score   support\n",
      "\n",
      "         0.0       0.66      0.68      0.67       200\n",
      "         1.0       0.48      0.45      0.46       128\n",
      "\n",
      "    accuracy                           0.59       328\n",
      "   macro avg       0.57      0.57      0.57       328\n",
      "weighted avg       0.59      0.59      0.59       328\n",
      "\n",
      "------------------------------ \n",
      "\n"
     ]
    }
   ],
   "source": [
    "models = [RandomForestClassifier(), KNeighborsClassifier(), SVC(), LogisticRegression(),xgb.XGBClassifier()]\n",
    "scores = dict()\n",
    "\n",
    "for m in models:\n",
    "    m.fit(x_train, y_train)\n",
    "    y_pred = m.predict(x_test)\n",
    "\n",
    "    print(f'model: {str(m)}')\n",
    "    print(classification_report(y_test,y_pred, zero_division=1))\n",
    "    print('-'*30, '\\n')"
   ]
  },
  {
   "cell_type": "markdown",
   "metadata": {},
   "source": [
    "Model Fitting Using (RFC)"
   ]
  },
  {
   "cell_type": "code",
   "execution_count": 7,
   "metadata": {},
   "outputs": [
    {
     "name": "stdout",
     "output_type": "stream",
     "text": [
      "model: RandomForestClassifier()\n",
      "              precision    recall  f1-score   support\n",
      "\n",
      "         0.0       0.68      0.73      0.71       200\n",
      "         1.0       0.52      0.45      0.49       128\n",
      "\n",
      "    accuracy                           0.62       328\n",
      "   macro avg       0.60      0.59      0.60       328\n",
      "weighted avg       0.62      0.62      0.62       328\n",
      "\n"
     ]
    }
   ],
   "source": [
    "rfc = RandomForestClassifier()\n",
    "rfc.fit(x_train, y_train)\n",
    "y_pred = rfc.predict(x_test)\n",
    "print(f'model: {str(rfc)}')\n",
    "print(classification_report(y_test,y_pred, zero_division=1))"
   ]
  },
  {
   "cell_type": "code",
   "execution_count": 8,
   "metadata": {},
   "outputs": [
    {
     "data": {
      "text/plain": [
       "<sklearn.metrics._plot.confusion_matrix.ConfusionMatrixDisplay at 0x1f6587cf7c0>"
      ]
     },
     "execution_count": 8,
     "metadata": {},
     "output_type": "execute_result"
    },
    {
     "data": {
      "image/png": "[encoded data removed]",
      "text/plain": [
       "<Figure size 640x480 with 2 Axes>"
      ]
     },
     "metadata": {},
     "output_type": "display_data"
    }
   ],
   "source": [
    "ConfusionMatrixDisplay.from_predictions(y_test, y_pred)"
   ]
  },
  {
   "cell_type": "markdown",
   "metadata": {},
   "source": [
    "Tuning Hyperparameter"
   ]
  },
  {
   "cell_type": "code",
   "execution_count": 9,
   "metadata": {},
   "outputs": [],
   "source": [
    "param_grid = {'C': [0.1, 1, 10, 100],  \n",
    "              'gamma': [1, 0.1, 0.01, 0.001], \n",
    "              'kernel': ['linear']} \n",
    "rfc_Model = SVC(gamma='auto',\n",
    "                random_state = 123)"
   ]
  },
  {
   "cell_type": "code",
   "execution_count": 10,
   "metadata": {},
   "outputs": [],
   "source": [
    "#Setup Random Grid Search\n",
    "from sklearn.model_selection import RandomizedSearchCV \n",
    "rfc_RS = RandomizedSearchCV (estimator = rfc_Model,\n",
    "                              param_distributions = param_grid,\n",
    "                              n_iter = 10,\n",
    "                              cv = 3, \n",
    "                              verbose=2, \n",
    "                              n_jobs = -1)"
   ]
  },
  {
   "cell_type": "code",
   "execution_count": 11,
   "metadata": {},
   "outputs": [
    {
     "name": "stdout",
     "output_type": "stream",
     "text": [
      "Fitting 3 folds for each of 10 candidates, totalling 30 fits\n",
      "              precision    recall  f1-score   support\n",
      "\n",
      "         0.0       0.70      0.74      0.72       200\n",
      "         1.0       0.56      0.50      0.53       128\n",
      "\n",
      "    accuracy                           0.65       328\n",
      "   macro avg       0.63      0.62      0.62       328\n",
      "weighted avg       0.64      0.65      0.65       328\n",
      "\n"
     ]
    }
   ],
   "source": [
    "# Lakukan Fitting Data\n",
    "rfc_RS.fit(X = x_train,\n",
    "           y = y_train)\n",
    "y_pred = rfc.predict(x_valid)\n",
    "print(classification_report(y_valid,y_pred, zero_division=1))"
   ]
  },
  {
   "cell_type": "markdown",
   "metadata": {},
   "source": [
    "Dump Model"
   ]
  },
  {
   "cell_type": "code",
   "execution_count": 12,
   "metadata": {},
   "outputs": [],
   "source": [
    "utils.pickle_dump(rfc, config[\"production_model_path\"])\n",
    "model = utils.pickle_load(\"models/production_model.pkl\")"
   ]
  },
  {
   "cell_type": "code",
   "execution_count": 15,
   "metadata": {},
   "outputs": [
    {
     "name": "stdout",
     "output_type": "stream",
     "text": [
      "(2689, 9)\n",
      "(328, 9)\n",
      "(328, 9)\n"
     ]
    }
   ],
   "source": [
    "# print(valid_set.shape)\n",
    "print(x_train.shape)\n",
    "print(x_test.shape)\n",
    "print(x_valid.shape)"
   ]
  }
 ],
 "metadata": {
  "kernelspec": {
   "display_name": "Python 3.9.12 ('.venv': venv)",
   "language": "python",
   "name": "python3"
  },
  "language_info": {
   "codemirror_mode": {
    "name": "ipython",
    "version": 3
   },
   "file_extension": ".py",
   "mimetype": "text/x-python",
   "name": "python",
   "nbconvert_exporter": "python",
   "pygments_lexer": "ipython3",
   "version": "3.9.12"
  },
  "orig_nbformat": 4,
  "vscode": {
   "interpreter": {
    "hash": "6d7f8d005fe951d4aae6f05074c70629e52a039b26ca7fec5660f7363a91be9b"
   }
  }
 },
 "nbformat": 4,
 "nbformat_minor": 2
}
