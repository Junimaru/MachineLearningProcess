{
 "cells": [
  {
   "cell_type": "markdown",
   "metadata": {},
   "source": [
    "Load Libraries"
   ]
  },
  {
   "cell_type": "code",
   "execution_count": 1,
   "metadata": {},
   "outputs": [],
   "source": [
    "import src.util as utils\n",
    "import pandas as pd\n",
    "import numpy as np\n",
    "from imblearn.over_sampling import SMOTE\n",
    "from sklearn.neighbors import LocalOutlierFactor\n",
    "from sklearn.preprocessing import MinMaxScaler"
   ]
  },
  {
   "cell_type": "markdown",
   "metadata": {},
   "source": [
    "Load Configuration"
   ]
  },
  {
   "cell_type": "code",
   "execution_count": 2,
   "metadata": {},
   "outputs": [],
   "source": [
    "config = utils.load_config()"
   ]
  },
  {
   "cell_type": "markdown",
   "metadata": {},
   "source": [
    "Load Dataset"
   ]
  },
  {
   "cell_type": "code",
   "execution_count": 3,
   "metadata": {},
   "outputs": [],
   "source": [
    "def load_dataset(config_data: dict):\n",
    "    # Load every set of data\n",
    "    x_train = utils.pickle_load(config_data[\"train_set_path\"][0])\n",
    "    y_train = utils.pickle_load(config_data[\"train_set_path\"][1])\n",
    "\n",
    "    x_valid = utils.pickle_load(config_data[\"valid_set_path\"][0])\n",
    "    y_valid = utils.pickle_load(config_data[\"valid_set_path\"][1])\n",
    "\n",
    "    x_test = utils.pickle_load(config_data[\"test_set_path\"][0])\n",
    "    y_test = utils.pickle_load(config_data[\"test_set_path\"][1])\n",
    "\n",
    "    # Concatenate x and y each set\n",
    "    train_set = pd.concat([x_train, y_train], axis = 1)\n",
    "    valid_set = pd.concat([x_valid, y_valid], axis = 1)\n",
    "    test_set = pd.concat([x_test, y_test], axis = 1)\n",
    "\n",
    "    # Return 3 set of data\n",
    "    return train_set, valid_set, test_set"
   ]
  },
  {
   "cell_type": "code",
   "execution_count": 4,
   "metadata": {},
   "outputs": [],
   "source": [
    "train_set, valid_set, test_set = load_dataset(config)"
   ]
  },
  {
   "cell_type": "code",
   "execution_count": 5,
   "metadata": {},
   "outputs": [
    {
     "name": "stdout",
     "output_type": "stream",
     "text": [
      "(2620, 10)\n",
      "(328, 10)\n",
      "(328, 10)\n"
     ]
    }
   ],
   "source": [
    "print(train_set.shape)\n",
    "print(valid_set.shape)\n",
    "print(test_set.shape)"
   ]
  },
  {
   "cell_type": "markdown",
   "metadata": {},
   "source": [
    "Over Sample Train Data"
   ]
  },
  {
   "cell_type": "code",
   "execution_count": 6,
   "metadata": {},
   "outputs": [],
   "source": [
    "x_ros, y_ros = SMOTE(random_state = 42).fit_resample(\n",
    "    train_set.drop(columns = config[\"label\"]),\n",
    "    train_set[config[\"label\"]]\n",
    ")\n",
    "train_set_bal = pd.concat([x_ros, y_ros], axis = 1)"
   ]
  },
  {
   "cell_type": "markdown",
   "metadata": {},
   "source": [
    "Scaling Data (normalisasi)"
   ]
  },
  {
   "cell_type": "code",
   "execution_count": 7,
   "metadata": {},
   "outputs": [],
   "source": [
    "\n",
    "scaler = MinMaxScaler()\n",
    "names = x_ros.columns\n",
    "d = scaler.fit_transform(x_ros)\n",
    "\n",
    "x_std = pd.DataFrame(d, columns=names)\n",
    "train_set_bal_std = pd.concat([x_std, y_ros], axis = 1)"
   ]
  },
  {
   "cell_type": "code",
   "execution_count": 8,
   "metadata": {},
   "outputs": [
    {
     "data": {
      "text/html": [
       "<div>\n",
       "<style scoped>\n",
       "    .dataframe tbody tr th:only-of-type {\n",
       "        vertical-align: middle;\n",
       "    }\n",
       "\n",
       "    .dataframe tbody tr th {\n",
       "        vertical-align: top;\n",
       "    }\n",
       "\n",
       "    .dataframe thead th {\n",
       "        text-align: right;\n",
       "    }\n",
       "</style>\n",
       "<table border=\"1\" class=\"dataframe\">\n",
       "  <thead>\n",
       "    <tr style=\"text-align: right;\">\n",
       "      <th></th>\n",
       "      <th>ph</th>\n",
       "      <th>Hardness</th>\n",
       "      <th>Solids</th>\n",
       "      <th>Chloramines</th>\n",
       "      <th>Sulfate</th>\n",
       "      <th>Conductivity</th>\n",
       "      <th>Organic_carbon</th>\n",
       "      <th>Trihalomethanes</th>\n",
       "      <th>Turbidity</th>\n",
       "      <th>Potability</th>\n",
       "    </tr>\n",
       "  </thead>\n",
       "  <tbody>\n",
       "    <tr>\n",
       "      <th>count</th>\n",
       "      <td>3196.000000</td>\n",
       "      <td>3196.000000</td>\n",
       "      <td>3196.000000</td>\n",
       "      <td>3196.000000</td>\n",
       "      <td>3196.000000</td>\n",
       "      <td>3196.000000</td>\n",
       "      <td>3196.000000</td>\n",
       "      <td>3196.000000</td>\n",
       "      <td>3196.000000</td>\n",
       "      <td>3196.000000</td>\n",
       "    </tr>\n",
       "    <tr>\n",
       "      <th>mean</th>\n",
       "      <td>0.515206</td>\n",
       "      <td>0.541752</td>\n",
       "      <td>0.355427</td>\n",
       "      <td>0.532943</td>\n",
       "      <td>0.582590</td>\n",
       "      <td>0.432318</td>\n",
       "      <td>0.485841</td>\n",
       "      <td>0.530251</td>\n",
       "      <td>0.472655</td>\n",
       "      <td>0.500000</td>\n",
       "    </tr>\n",
       "    <tr>\n",
       "      <th>std</th>\n",
       "      <td>0.107004</td>\n",
       "      <td>0.116039</td>\n",
       "      <td>0.146039</td>\n",
       "      <td>0.122676</td>\n",
       "      <td>0.104331</td>\n",
       "      <td>0.138255</td>\n",
       "      <td>0.128453</td>\n",
       "      <td>0.124523</td>\n",
       "      <td>0.144235</td>\n",
       "      <td>0.500078</td>\n",
       "    </tr>\n",
       "    <tr>\n",
       "      <th>min</th>\n",
       "      <td>0.000000</td>\n",
       "      <td>0.000000</td>\n",
       "      <td>0.000000</td>\n",
       "      <td>0.000000</td>\n",
       "      <td>0.000000</td>\n",
       "      <td>0.000000</td>\n",
       "      <td>0.000000</td>\n",
       "      <td>0.000000</td>\n",
       "      <td>0.000000</td>\n",
       "      <td>0.000000</td>\n",
       "    </tr>\n",
       "    <tr>\n",
       "      <th>25%</th>\n",
       "      <td>0.454914</td>\n",
       "      <td>0.473030</td>\n",
       "      <td>0.247856</td>\n",
       "      <td>0.456007</td>\n",
       "      <td>0.523831</td>\n",
       "      <td>0.329772</td>\n",
       "      <td>0.400322</td>\n",
       "      <td>0.453113</td>\n",
       "      <td>0.374030</td>\n",
       "      <td>0.000000</td>\n",
       "    </tr>\n",
       "    <tr>\n",
       "      <th>50%</th>\n",
       "      <td>0.511706</td>\n",
       "      <td>0.542966</td>\n",
       "      <td>0.337933</td>\n",
       "      <td>0.532344</td>\n",
       "      <td>0.582483</td>\n",
       "      <td>0.427289</td>\n",
       "      <td>0.483022</td>\n",
       "      <td>0.531991</td>\n",
       "      <td>0.473950</td>\n",
       "      <td>0.500000</td>\n",
       "    </tr>\n",
       "    <tr>\n",
       "      <th>75%</th>\n",
       "      <td>0.574257</td>\n",
       "      <td>0.612720</td>\n",
       "      <td>0.441379</td>\n",
       "      <td>0.610504</td>\n",
       "      <td>0.639772</td>\n",
       "      <td>0.529065</td>\n",
       "      <td>0.571809</td>\n",
       "      <td>0.607904</td>\n",
       "      <td>0.568976</td>\n",
       "      <td>1.000000</td>\n",
       "    </tr>\n",
       "    <tr>\n",
       "      <th>max</th>\n",
       "      <td>1.000000</td>\n",
       "      <td>1.000000</td>\n",
       "      <td>1.000000</td>\n",
       "      <td>1.000000</td>\n",
       "      <td>1.000000</td>\n",
       "      <td>1.000000</td>\n",
       "      <td>1.000000</td>\n",
       "      <td>1.000000</td>\n",
       "      <td>1.000000</td>\n",
       "      <td>1.000000</td>\n",
       "    </tr>\n",
       "  </tbody>\n",
       "</table>\n",
       "</div>"
      ],
      "text/plain": [
       "                ph     Hardness       Solids  Chloramines      Sulfate  \\\n",
       "count  3196.000000  3196.000000  3196.000000  3196.000000  3196.000000   \n",
       "mean      0.515206     0.541752     0.355427     0.532943     0.582590   \n",
       "std       0.107004     0.116039     0.146039     0.122676     0.104331   \n",
       "min       0.000000     0.000000     0.000000     0.000000     0.000000   \n",
       "25%       0.454914     0.473030     0.247856     0.456007     0.523831   \n",
       "50%       0.511706     0.542966     0.337933     0.532344     0.582483   \n",
       "75%       0.574257     0.612720     0.441379     0.610504     0.639772   \n",
       "max       1.000000     1.000000     1.000000     1.000000     1.000000   \n",
       "\n",
       "       Conductivity  Organic_carbon  Trihalomethanes    Turbidity   Potability  \n",
       "count   3196.000000     3196.000000      3196.000000  3196.000000  3196.000000  \n",
       "mean       0.432318        0.485841         0.530251     0.472655     0.500000  \n",
       "std        0.138255        0.128453         0.124523     0.144235     0.500078  \n",
       "min        0.000000        0.000000         0.000000     0.000000     0.000000  \n",
       "25%        0.329772        0.400322         0.453113     0.374030     0.000000  \n",
       "50%        0.427289        0.483022         0.531991     0.473950     0.500000  \n",
       "75%        0.529065        0.571809         0.607904     0.568976     1.000000  \n",
       "max        1.000000        1.000000         1.000000     1.000000     1.000000  "
      ]
     },
     "execution_count": 8,
     "metadata": {},
     "output_type": "execute_result"
    }
   ],
   "source": [
    "train_set_bal_std.describe()"
   ]
  },
  {
   "cell_type": "markdown",
   "metadata": {},
   "source": [
    "Outlier Remove"
   ]
  },
  {
   "cell_type": "code",
   "execution_count": 9,
   "metadata": {},
   "outputs": [],
   "source": [
    "def remove_outliers(set_data):\n",
    "    set_data = set_data.copy()\n",
    "    list_of_set_data = list()\n",
    "\n",
    "    for col_name in set_data.columns[:-1]:\n",
    "        q1 = set_data[col_name].quantile(0.25)\n",
    "        q3 = set_data[col_name].quantile(0.75)\n",
    "        iqr = q3 - q1\n",
    "        set_data_cleaned = set_data[~((set_data[col_name] < (q1 - 1.5 * iqr)) | (set_data[col_name] > (q3 + 1.5 * iqr)))].copy()\n",
    "        list_of_set_data.append(set_data_cleaned.copy())\n",
    "    \n",
    "    set_data_cleaned = pd.concat(list_of_set_data)\n",
    "    count_duplicated_index = set_data_cleaned.index.value_counts()\n",
    "    used_index_data = count_duplicated_index[count_duplicated_index == (set_data.shape[1]-1)].index\n",
    "    set_data_cleaned = set_data_cleaned.loc[used_index_data].drop_duplicates()\n",
    "\n",
    "    return set_data_cleaned"
   ]
  },
  {
   "cell_type": "code",
   "execution_count": 10,
   "metadata": {},
   "outputs": [],
   "source": [
    "train_set_bal_cleaned = remove_outliers(train_set_bal)"
   ]
  },
  {
   "cell_type": "code",
   "execution_count": 11,
   "metadata": {},
   "outputs": [
    {
     "data": {
      "text/html": [
       "<div>\n",
       "<style scoped>\n",
       "    .dataframe tbody tr th:only-of-type {\n",
       "        vertical-align: middle;\n",
       "    }\n",
       "\n",
       "    .dataframe tbody tr th {\n",
       "        vertical-align: top;\n",
       "    }\n",
       "\n",
       "    .dataframe thead th {\n",
       "        text-align: right;\n",
       "    }\n",
       "</style>\n",
       "<table border=\"1\" class=\"dataframe\">\n",
       "  <thead>\n",
       "    <tr style=\"text-align: right;\">\n",
       "      <th></th>\n",
       "      <th>ph</th>\n",
       "      <th>Hardness</th>\n",
       "      <th>Solids</th>\n",
       "      <th>Chloramines</th>\n",
       "      <th>Sulfate</th>\n",
       "      <th>Conductivity</th>\n",
       "      <th>Organic_carbon</th>\n",
       "      <th>Trihalomethanes</th>\n",
       "      <th>Turbidity</th>\n",
       "      <th>Potability</th>\n",
       "    </tr>\n",
       "  </thead>\n",
       "  <tbody>\n",
       "    <tr>\n",
       "      <th>count</th>\n",
       "      <td>2689.000000</td>\n",
       "      <td>2689.000000</td>\n",
       "      <td>2689.000000</td>\n",
       "      <td>2689.000000</td>\n",
       "      <td>2689.000000</td>\n",
       "      <td>2689.000000</td>\n",
       "      <td>2689.000000</td>\n",
       "      <td>2689.000000</td>\n",
       "      <td>2689.000000</td>\n",
       "      <td>2689.000000</td>\n",
       "    </tr>\n",
       "    <tr>\n",
       "      <th>mean</th>\n",
       "      <td>7.056138</td>\n",
       "      <td>197.125394</td>\n",
       "      <td>21479.484152</td>\n",
       "      <td>7.088768</td>\n",
       "      <td>334.292479</td>\n",
       "      <td>428.150772</td>\n",
       "      <td>14.233504</td>\n",
       "      <td>65.977483</td>\n",
       "      <td>3.971829</td>\n",
       "      <td>0.499442</td>\n",
       "    </tr>\n",
       "    <tr>\n",
       "      <th>std</th>\n",
       "      <td>1.199744</td>\n",
       "      <td>27.458526</td>\n",
       "      <td>7952.663563</td>\n",
       "      <td>1.403651</td>\n",
       "      <td>30.580390</td>\n",
       "      <td>78.357271</td>\n",
       "      <td>3.066849</td>\n",
       "      <td>14.277681</td>\n",
       "      <td>0.736700</td>\n",
       "      <td>0.500093</td>\n",
       "    </tr>\n",
       "    <tr>\n",
       "      <th>min</th>\n",
       "      <td>3.902476</td>\n",
       "      <td>120.101908</td>\n",
       "      <td>320.942611</td>\n",
       "      <td>3.239580</td>\n",
       "      <td>252.231330</td>\n",
       "      <td>210.319182</td>\n",
       "      <td>5.914617</td>\n",
       "      <td>28.400877</td>\n",
       "      <td>1.922377</td>\n",
       "      <td>0.000000</td>\n",
       "    </tr>\n",
       "    <tr>\n",
       "      <th>25%</th>\n",
       "      <td>6.328553</td>\n",
       "      <td>179.548074</td>\n",
       "      <td>15417.932834</td>\n",
       "      <td>6.175570</td>\n",
       "      <td>315.180405</td>\n",
       "      <td>370.085153</td>\n",
       "      <td>12.128377</td>\n",
       "      <td>56.932455</td>\n",
       "      <td>3.453861</td>\n",
       "      <td>0.000000</td>\n",
       "    </tr>\n",
       "    <tr>\n",
       "      <th>50%</th>\n",
       "      <td>7.036774</td>\n",
       "      <td>197.300014</td>\n",
       "      <td>20596.391231</td>\n",
       "      <td>7.076222</td>\n",
       "      <td>334.161127</td>\n",
       "      <td>425.790228</td>\n",
       "      <td>14.150363</td>\n",
       "      <td>66.179547</td>\n",
       "      <td>3.978495</td>\n",
       "      <td>0.000000</td>\n",
       "    </tr>\n",
       "    <tr>\n",
       "      <th>75%</th>\n",
       "      <td>7.784067</td>\n",
       "      <td>215.194145</td>\n",
       "      <td>26744.301742</td>\n",
       "      <td>8.021803</td>\n",
       "      <td>352.952803</td>\n",
       "      <td>482.673327</td>\n",
       "      <td>16.333126</td>\n",
       "      <td>75.416710</td>\n",
       "      <td>4.481552</td>\n",
       "      <td>1.000000</td>\n",
       "    </tr>\n",
       "    <tr>\n",
       "      <th>max</th>\n",
       "      <td>10.252816</td>\n",
       "      <td>273.813807</td>\n",
       "      <td>44868.458368</td>\n",
       "      <td>10.999995</td>\n",
       "      <td>413.914001</td>\n",
       "      <td>652.537592</td>\n",
       "      <td>22.686837</td>\n",
       "      <td>104.230949</td>\n",
       "      <td>5.989543</td>\n",
       "      <td>1.000000</td>\n",
       "    </tr>\n",
       "  </tbody>\n",
       "</table>\n",
       "</div>"
      ],
      "text/plain": [
       "                ph     Hardness        Solids  Chloramines      Sulfate  \\\n",
       "count  2689.000000  2689.000000   2689.000000  2689.000000  2689.000000   \n",
       "mean      7.056138   197.125394  21479.484152     7.088768   334.292479   \n",
       "std       1.199744    27.458526   7952.663563     1.403651    30.580390   \n",
       "min       3.902476   120.101908    320.942611     3.239580   252.231330   \n",
       "25%       6.328553   179.548074  15417.932834     6.175570   315.180405   \n",
       "50%       7.036774   197.300014  20596.391231     7.076222   334.161127   \n",
       "75%       7.784067   215.194145  26744.301742     8.021803   352.952803   \n",
       "max      10.252816   273.813807  44868.458368    10.999995   413.914001   \n",
       "\n",
       "       Conductivity  Organic_carbon  Trihalomethanes    Turbidity   Potability  \n",
       "count   2689.000000     2689.000000      2689.000000  2689.000000  2689.000000  \n",
       "mean     428.150772       14.233504        65.977483     3.971829     0.499442  \n",
       "std       78.357271        3.066849        14.277681     0.736700     0.500093  \n",
       "min      210.319182        5.914617        28.400877     1.922377     0.000000  \n",
       "25%      370.085153       12.128377        56.932455     3.453861     0.000000  \n",
       "50%      425.790228       14.150363        66.179547     3.978495     0.000000  \n",
       "75%      482.673327       16.333126        75.416710     4.481552     1.000000  \n",
       "max      652.537592       22.686837       104.230949     5.989543     1.000000  "
      ]
     },
     "execution_count": 11,
     "metadata": {},
     "output_type": "execute_result"
    }
   ],
   "source": [
    "train_set_bal_cleaned.describe()"
   ]
  },
  {
   "cell_type": "markdown",
   "metadata": {},
   "source": [
    "Dumping File"
   ]
  },
  {
   "cell_type": "code",
   "execution_count": 12,
   "metadata": {},
   "outputs": [],
   "source": [
    "utils.pickle_dump(train_set_bal_cleaned[config[\"predictors\"]], config[\"train_feng_set_path\"][0])\n",
    "utils.pickle_dump(train_set_bal_cleaned[config[\"label\"]], config[\"train_feng_set_path\"][1])\n",
    "\n",
    "utils.pickle_dump(valid_set[config[\"predictors\"]], config[\"valid_feng_set_path\"][0])\n",
    "utils.pickle_dump(valid_set[config[\"label\"]], config[\"valid_feng_set_path\"][1])\n",
    "\n",
    "utils.pickle_dump(test_set[config[\"predictors\"]], config[\"test_feng_set_path\"][0])\n",
    "utils.pickle_dump(test_set[config[\"label\"]], config[\"test_feng_set_path\"][1])"
   ]
  },
  {
   "cell_type": "markdown",
   "metadata": {},
   "source": []
  }
 ],
 "metadata": {
  "kernelspec": {
   "display_name": "Python 3.9.12 ('.venv': venv)",
   "language": "python",
   "name": "python3"
  },
  "language_info": {
   "codemirror_mode": {
    "name": "ipython",
    "version": 3
   },
   "file_extension": ".py",
   "mimetype": "text/x-python",
   "name": "python",
   "nbconvert_exporter": "python",
   "pygments_lexer": "ipython3",
   "version": "3.9.12"
  },
  "orig_nbformat": 4,
  "vscode": {
   "interpreter": {
    "hash": "6d7f8d005fe951d4aae6f05074c70629e52a039b26ca7fec5660f7363a91be9b"
   }
  }
 },
 "nbformat": 4,
 "nbformat_minor": 2
}
